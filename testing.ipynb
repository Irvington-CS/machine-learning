{
 "cells": [
  {
   "cell_type": "code",
   "execution_count": 1,
   "id": "hungry-insert",
   "metadata": {},
   "outputs": [
    {
     "name": "stdout",
     "output_type": "stream",
     "text": [
      "testing .ipynb files\n"
     ]
    }
   ],
   "source": [
    "print('testing .ipynb files')"
   ]
  },
  {
   "cell_type": "code",
   "execution_count": 2,
   "id": "continental-former",
   "metadata": {},
   "outputs": [
    {
     "name": "stdout",
     "output_type": "stream",
     "text": [
      "1\n",
      "3\n",
      "7\n",
      "15\n",
      "31\n",
      "63\n",
      "127\n",
      "255\n",
      "511\n",
      "1023\n"
     ]
    }
   ],
   "source": [
    "x = 0\n",
    "for i in range(10):\n",
    "    x = 2 * x + 1\n",
    "    print(x)"
   ]
  }
 ],
 "metadata": {
  "kernelspec": {
   "display_name": "Python 3.8.2 64-bit ('venv': venv)",
   "language": "python",
   "name": "python38264bitvenvvenvc31897c4aad14db0bf4ca1a1e6e0f1e0"
  },
  "language_info": {
   "codemirror_mode": {
    "name": "ipython",
    "version": 3
   },
   "file_extension": ".py",
   "mimetype": "text/x-python",
   "name": "python",
   "nbconvert_exporter": "python",
   "pygments_lexer": "ipython3",
   "version": "3.8.2"
  }
 },
 "nbformat": 4,
 "nbformat_minor": 5
}
